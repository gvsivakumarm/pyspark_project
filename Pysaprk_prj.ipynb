{
 "cells": [
  {
   "cell_type": "code",
   "execution_count": null,
   "id": "9f4d5528",
   "metadata": {},
   "outputs": [],
   "source": [
    "from pyspark.sql import SparkSession\n",
    "from pyspark.sql.functions import *\n",
    "from pyspark.sql.types import *\n",
    "spark = SparkSession\\\n",
    ".builder\\\n",
    ".config(\"spark.shuffle.useOldfetchProtocol\",'true')\\\n",
    ".config(\"spark.sql.warehouse.dir\",f\"/user/itv010252/warehouse\")\\\n",
    ".config(\"spark.delta.formatCheck.enabled=True\")\\\n",
    ".enableHiveSupport()\\\n",
    ".master('yarn')\\\n",
    ".getOrCreate()"
   ]
  },
  {
   "cell_type": "code",
   "execution_count": null,
   "id": "da6be8e5",
   "metadata": {},
   "outputs": [],
   "source": [
    "#raw_yellowtaxi\n",
    "#reading_yellowtaxi\n",
    "raw_yellow = spark.read\\\n",
    ".load(\"/user/itv010252/yellow_22/*\")"
   ]
  },
  {
   "cell_type": "code",
   "execution_count": null,
   "id": "e9e35808",
   "metadata": {},
   "outputs": [],
   "source": [
    "#raw_greentaxi\n",
    "#reading_greentaxi\n",
    "raw_green = spark.read\\\n",
    ".load(\"/user/itv010252/green_22/green_tripdata_2022-01.parquet\")"
   ]
  },
  {
   "cell_type": "code",
   "execution_count": null,
   "id": "3f7b73b0",
   "metadata": {},
   "outputs": [],
   "source": [
    "schema = \"location_id integer,borough string,zone string,service_zone string\""
   ]
  },
  {
   "cell_type": "code",
   "execution_count": null,
   "id": "168c8558",
   "metadata": {},
   "outputs": [],
   "source": [
    "#reading location name data\n",
    "location_name = spark.read\\\n",
    ".format(\"csv\")\\\n",
    ".option(\"header\", True)\\\n",
    ".schema(schema)\\\n",
    ".load(\"/user/itv010252/taxi_zone_lookup.csv\")"
   ]
  },
  {
   "cell_type": "code",
   "execution_count": null,
   "id": "aa727579",
   "metadata": {},
   "outputs": [],
   "source": [
    "spark.conf.set(\"spark.sql.adaptive.enabled\",True)"
   ]
  },
  {
   "cell_type": "code",
   "execution_count": null,
   "id": "f4382bc9",
   "metadata": {},
   "outputs": [],
   "source": []
  },
  {
   "cell_type": "code",
   "execution_count": null,
   "id": "6f446178",
   "metadata": {},
   "outputs": [],
   "source": [
    "#restructuring green taxi data according to bussines needs"
   ]
  },
  {
   "cell_type": "code",
   "execution_count": null,
   "id": "7966184e",
   "metadata": {},
   "outputs": [],
   "source": [
    "modified_1_green = raw_green.drop(\"ehail_fee\",\"trip_type\")"
   ]
  },
  {
   "cell_type": "code",
   "execution_count": null,
   "id": "9fa11ee7",
   "metadata": {},
   "outputs": [],
   "source": [
    "#Excluded rows which are drop time is not year 2022\n",
    "modified_2_green = modified_1_green.filter(col(\"lpep_dropoff_datetime\").between(\"2022-01-01\",\"2023-01-01\"))"
   ]
  },
  {
   "cell_type": "code",
   "execution_count": null,
   "id": "c96a03a7",
   "metadata": {},
   "outputs": [],
   "source": [
    "#Excluded rows where total fare is null as the bussines needs to know total revenu generated\n",
    "modified_3_green = modified_2_green.filter((col(\"total_amount\")>0) & (col(\"total_amount\").isNotNull()))"
   ]
  },
  {
   "cell_type": "code",
   "execution_count": null,
   "id": "6be16eee",
   "metadata": {},
   "outputs": [],
   "source": [
    "#Rearranging the order of the columns and chaning datatypes of fe columns as we need to merger two taxi services\n",
    "modified_4_green = modified_3_green.select(\"lpep_pickup_datetime\",\"lpep_dropoff_datetime\",\"PULocationID\",\"DOLocationID\",\"passenger_count\",\"trip_distance\",\"fare_amount\",\n",
    "                                           \"extra\",\"mta_tax\",\"tip_amount\",\"tolls_amount\",\"improvement_surcharge\",\"total_amount\",\"payment_type\",\"congestion_surcharge\",\n",
    "                                           \"RatecodeID\",\"store_and_fwd_flag\",\"VendorID\")"
   ]
  },
  {
   "cell_type": "code",
   "execution_count": null,
   "id": "ed7926c7",
   "metadata": {},
   "outputs": [],
   "source": [
    "modified_5_green = modified_4_green.withColumn(\"payment_type\", modified_4_green[\"payment_type\"].cast(LongType()))\\\n",
    ".withColumn(\"Taxi_type\",lit(\"Green_taxi\"))\\\n",
    ".withColumn(\"airport_fee\",lit(0.0))\\\n",
    ".withColumnRenamed(\"lpep_pickup_datetime\",\"tpep_pickup_datetime\")\\\n",
    ".withColumnRenamed(\"lpep_dropoff_datetime\",\"tpep_dropoff_datetime\")"
   ]
  },
  {
   "cell_type": "code",
   "execution_count": null,
   "id": "92953dea",
   "metadata": {},
   "outputs": [],
   "source": [
    "#creating new column which are required for revenu calutions and some analysis\n",
    "modified_6_green = modified_5_green.withColumn(\"Month\",date_format(\"tpep_pickup_datetime\",\"MMMM\"))\\\n",
    ".withColumn(\"day_of_week\",date_format(\"tpep_pickup_datetime\", \"EEEE\"))\\\n",
    ".withColumn(\"time\",when(((date_format(\"tpep_pickup_datetime\",\"HH:MM:SS\") > \"06:00:00\") & (date_format(\"tpep_pickup_datetime\",\"HH:MM:SS\") < \"11:59:59\")), 'Morning')\n",
    "                                  .when(((date_format(\"tpep_pickup_datetime\",\"HH:MM:SS\") > \"12:00:00\") & (date_format(\"tpep_pickup_datetime\",\"HH:MM:SS\") < \"15:59:59\")), 'Noon')\n",
    "                                  .when(((date_format(\"tpep_pickup_datetime\",\"HH:MM:SS\") > \"16:00:00\") & (date_format(\"tpep_pickup_datetime\",\"HH:MM:SS\") < \"19:59:59\")), 'evening')\n",
    "                                  .when(((date_format(\"tpep_pickup_datetime\",\"HH:MM:SS\") > \"20:00:00\") & (date_format(\"tpep_pickup_datetime\",\"HH:MM:SS\") < \"23:59:59\")), 'Night')\n",
    "                                  .when(((date_format(\"tpep_pickup_datetime\",\"HH:MM:SS\") > \"00:00:00\") & (date_format(\"tpep_pickup_datetime\",\"HH:MM:SS\") < \"3:59:59\")), 'Mid_night')\n",
    "                                  .when(((date_format(\"tpep_pickup_datetime\",\"HH:MM:SS\") > \"4:00:00\") & (date_format(\"tpep_pickup_datetime\",\"HH:MM:SS\") < \"5:59:59\")), 'Early_morning')\n",
    "                                  .otherwise(\"D\"))"
   ]
  },
  {
   "cell_type": "code",
   "execution_count": null,
   "id": "4258fc52",
   "metadata": {},
   "outputs": [],
   "source": [
    "#Making similar change for yellow taxi raw dataframe"
   ]
  },
  {
   "cell_type": "code",
   "execution_count": null,
   "id": "29543871",
   "metadata": {},
   "outputs": [],
   "source": [
    "modified_1_yellow = raw_yellow.filter(col(\"tpep_dropoff_datetime\").between(\"2022-01-01\",\"2023-01-01\"))"
   ]
  },
  {
   "cell_type": "code",
   "execution_count": null,
   "id": "d42af7ad",
   "metadata": {},
   "outputs": [],
   "source": [
    "modified_2_yellow = modified_1_yellow.filter((col(\"total_amount\")>0) & (col(\"total_amount\").isNotNull()))"
   ]
  },
  {
   "cell_type": "code",
   "execution_count": null,
   "id": "71893edb",
   "metadata": {},
   "outputs": [],
   "source": [
    "modified_3_yellow = modified_2_yellow.withColumn(\"Taxi_type\",lit(\"yellow_taxi\"))\\"
   ]
  },
  {
   "cell_type": "code",
   "execution_count": null,
   "id": "84a4adb1",
   "metadata": {},
   "outputs": [],
   "source": [
    "modified_4_yellow = modified_3_yellow.select(\"tpep_pickup_datetime\",\"tpep_dropoff_datetime\",\"PULocationID\",\"DOLocationID\",\"passenger_count\",\n",
    "                                             \"trip_distance\",\"fare_amount\",\"extra\",\"mta_tax\",\"tip_amount\",\"tolls_amount\",\"improvement_surcharge\",\n",
    "                                             \"total_amount\",\"payment_type\",\"congestion_surcharge\",\"RatecodeID\",\"store_and_fwd_flag\",\"VendorID\",\n",
    "                                             \"Taxi_type\",\"airport_fee\")"
   ]
  },
  {
   "cell_type": "code",
   "execution_count": null,
   "id": "002b3554",
   "metadata": {},
   "outputs": [],
   "source": [
    "modified_5_yellow = modified_4_yellow.withColumn(\"Month\",date_format(\"tpep_pickup_datetime\",\"MMMM\"))\\\n",
    ".withColumn(\"day_of_week\",date_format(\"tpep_pickup_datetime\", \"EEEE\"))\\\n",
    ".withColumn(\"time\",when(((date_format(\"tpep_pickup_datetime\",\"HH:MM:SS\") > \"06:00:00\") & (date_format(\"tpep_pickup_datetime\",\"HH:MM:SS\") < \"11:59:59\")), 'Morning')\n",
    "                                  .when(((date_format(\"tpep_pickup_datetime\",\"HH:MM:SS\") > \"12:00:00\") & (date_format(\"tpep_pickup_datetime\",\"HH:MM:SS\") < \"15:59:59\")), 'Noon')\n",
    "                                  .when(((date_format(\"tpep_pickup_datetime\",\"HH:MM:SS\") > \"16:00:00\") & (date_format(\"tpep_pickup_datetime\",\"HH:MM:SS\") < \"19:59:59\")), 'evening')\n",
    "                                  .when(((date_format(\"tpep_pickup_datetime\",\"HH:MM:SS\") > \"20:00:00\") & (date_format(\"tpep_pickup_datetime\",\"HH:MM:SS\") < \"23:59:59\")), 'Night')\n",
    "                                  .when(((date_format(\"tpep_pickup_datetime\",\"HH:MM:SS\") > \"00:00:00\") & (date_format(\"tpep_pickup_datetime\",\"HH:MM:SS\") < \"3:59:59\")), 'Mid_night')\n",
    "                                  .when(((date_format(\"tpep_pickup_datetime\",\"HH:MM:SS\") > \"4:00:00\") & (date_format(\"tpep_pickup_datetime\",\"HH:MM:SS\") < \"5:59:59\")), 'Early_morning')\n",
    "                                  .otherwise(\"D\"))"
   ]
  },
  {
   "cell_type": "code",
   "execution_count": null,
   "id": "921a8a7c",
   "metadata": {},
   "outputs": [],
   "source": []
  },
  {
   "cell_type": "code",
   "execution_count": null,
   "id": "574ae8a3",
   "metadata": {},
   "outputs": [],
   "source": [
    "#Grouping and aggregating data to find total revenu genrated month wise for both taxi types"
   ]
  },
  {
   "cell_type": "code",
   "execution_count": null,
   "id": "f408e8d8",
   "metadata": {},
   "outputs": [],
   "source": [
    "farecollected_green = modified_6_green.groupBy(\"Month\").agg(sum(\"total_amount\").alias(\"each_month_total\"))                                                              "
   ]
  },
  {
   "cell_type": "code",
   "execution_count": null,
   "id": "e42637bc",
   "metadata": {},
   "outputs": [],
   "source": [
    "farecollected_yellow = modified_5_yellow.groupBy(\"Month\").agg(sum(\"total_amount\").alias(\"each_month_total\"))"
   ]
  },
  {
   "cell_type": "code",
   "execution_count": null,
   "id": "be669712",
   "metadata": {},
   "outputs": [],
   "source": []
  },
  {
   "cell_type": "code",
   "execution_count": null,
   "id": "6a217246",
   "metadata": {},
   "outputs": [],
   "source": [
    "#Filtering ,grouping and aggregating to find total ride done weekend fopr both taxi types"
   ]
  },
  {
   "cell_type": "code",
   "execution_count": null,
   "id": "e36b1969",
   "metadata": {},
   "outputs": [],
   "source": [
    "filtered_yellow = modified_5_yellow.filter((col(\"day_of_week\")==\"Saturday\")|((col(\"day_of_week\")==\"Friday\") \\\n",
    "& ((col(\"time\") == \"evening\") |(col(\"time\") == \"Night\")|(col(\"time\") == \"Night\")))|(col(\"day_of_week\")==\"Sunday\"))"
   ]
  },
  {
   "cell_type": "code",
   "execution_count": null,
   "id": "bb681d61",
   "metadata": {},
   "outputs": [],
   "source": [
    "Location_total_yellow = filtered_yellow.groupby(\"PULocationID\",\"day_of_week\")\\\n",
    ".agg(sum(\"passenger_count\").alias(\"total_passengers_yellowtaxi\"),count(\"tpep_pickup_datetime\").alias(\"total_rides_yellowtaxi\"))"
   ]
  },
  {
   "cell_type": "code",
   "execution_count": null,
   "id": "6a32b783",
   "metadata": {},
   "outputs": [],
   "source": []
  },
  {
   "cell_type": "code",
   "execution_count": null,
   "id": "c2d55811",
   "metadata": {},
   "outputs": [],
   "source": [
    "filtered_green = modified_6_green.filter((col(\"day_of_week\")==\"Saturday\")|((col(\"day_of_week\")==\"Friday\") & ((col(\"time\") == \"evening\") \\\n",
    "|(col(\"time\") == \"Night\")|(col(\"time\") == \"Night\")))|(col(\"day_of_week\")==\"Sunday\"))"
   ]
  },
  {
   "cell_type": "code",
   "execution_count": null,
   "id": "01ea051b",
   "metadata": {},
   "outputs": [],
   "source": [
    "Location_total_green = filtered_green.groupby(\"PULocationID\",\"day_of_week\")\\\n",
    ".agg(sum(\"passenger_count\").alias(\"total_passengers_greentaxi\"),count(\"tpep_pickup_datetime\").alias(\"total_rides_greentaxi\"))"
   ]
  },
  {
   "cell_type": "code",
   "execution_count": null,
   "id": "5e235178",
   "metadata": {},
   "outputs": [],
   "source": []
  },
  {
   "cell_type": "code",
   "execution_count": null,
   "id": "06b62a5a",
   "metadata": {},
   "outputs": [],
   "source": [
    "#Writing above dataframe as spark table to find bussines insights, \n",
    "#as the data is aggregated the data will be in smaller oin size which can be easily queried"
   ]
  },
  {
   "cell_type": "code",
   "execution_count": null,
   "id": "53075ccd",
   "metadata": {},
   "outputs": [],
   "source": [
    "Location_total_yellow.write.saveAsTable(\"Location_total_yellowtaxi\")"
   ]
  },
  {
   "cell_type": "code",
   "execution_count": null,
   "id": "698e7ae6",
   "metadata": {},
   "outputs": [],
   "source": [
    "Location_total_green.write.saveAsTable(\"Location_total_green\")"
   ]
  },
  {
   "cell_type": "code",
   "execution_count": null,
   "id": "3b22d9c4",
   "metadata": {},
   "outputs": [],
   "source": [
    "farecollected_green.write.saveAsTable(\"farecollected_green\")"
   ]
  },
  {
   "cell_type": "code",
   "execution_count": null,
   "id": "579cc1ff",
   "metadata": {},
   "outputs": [],
   "source": [
    "farecollected_yellow.write.saveAsTable(\"farecollected_yellow\")"
   ]
  },
  {
   "cell_type": "code",
   "execution_count": null,
   "id": "83fd8c42",
   "metadata": {},
   "outputs": [],
   "source": [
    "location_name.write.saveAsTable(\"location_name\")"
   ]
  },
  {
   "cell_type": "code",
   "execution_count": null,
   "id": "b3c0aaed",
   "metadata": {},
   "outputs": [],
   "source": []
  },
  {
   "cell_type": "code",
   "execution_count": null,
   "id": "8de5b873",
   "metadata": {},
   "outputs": [],
   "source": []
  },
  {
   "cell_type": "code",
   "execution_count": null,
   "id": "9f10a9ec",
   "metadata": {},
   "outputs": [],
   "source": [
    "spark.sql(\"use mydb_010252\")"
   ]
  },
  {
   "cell_type": "code",
   "execution_count": null,
   "id": "6682fb39",
   "metadata": {},
   "outputs": [],
   "source": [
    "spark.sql(\"show tables\").show(truncate=False)"
   ]
  },
  {
   "cell_type": "code",
   "execution_count": null,
   "id": "67d91d72",
   "metadata": {},
   "outputs": [],
   "source": []
  },
  {
   "cell_type": "code",
   "execution_count": null,
   "id": "a877d93a",
   "metadata": {},
   "outputs": [],
   "source": [
    "#running sample quries to find business insights"
   ]
  },
  {
   "cell_type": "code",
   "execution_count": null,
   "id": "866f2111",
   "metadata": {},
   "outputs": [],
   "source": [
    "spark.sql(\"\"\"select y.PULocationID,y.day_of_week,y.total_rides_yellowtaxi,l.zone from Location_total_yellowtaxi as y \n",
    "join location_name as l on l.location_id = y.PULocationID order by total_rides_yellowtaxi desc\"\"\")\\\n",
    ".show(truncate = False)"
   ]
  },
  {
   "cell_type": "code",
   "execution_count": null,
   "id": "4f5c9d47",
   "metadata": {},
   "outputs": [],
   "source": [
    "spark.sql(\"\"\"select  y.PULocationID,y.day_of_week,y.total_rides_greentaxi,l.zone from Location_total_green as y\n",
    " join location_name as l on l.location_id = y.PULocationID order by total_rides_greentaxi desc\"\"\")\\\n",
    ".show(truncate = False)"
   ]
  },
  {
   "cell_type": "code",
   "execution_count": null,
   "id": "6fc78eb8",
   "metadata": {},
   "outputs": [],
   "source": [
    "spark.sql(\"\"\"SELECT y.month,CAST(y.each_month_total AS DECIMAL(30, 0)) AS monthwise_fare_collected_yellow, \n",
    "CAST(g.each_month_total AS DECIMAL(30, 0)) AS monthwise_fare_collected_green FROM farecollected_yellow as y \n",
    "join farecollected_green as g on y.month = g.month order by monthwise_fare_collected_yellow\"\"\")\\\n",
    ".show()"
   ]
  },
  {
   "cell_type": "code",
   "execution_count": null,
   "id": "a14fc8eb",
   "metadata": {},
   "outputs": [],
   "source": []
  },
  {
   "cell_type": "code",
   "execution_count": null,
   "id": "2a105001",
   "metadata": {},
   "outputs": [],
   "source": []
  },
  {
   "cell_type": "code",
   "execution_count": null,
   "id": "aa4a656b",
   "metadata": {},
   "outputs": [],
   "source": [
    "spark.stop()"
   ]
  },
  {
   "cell_type": "code",
   "execution_count": null,
   "id": "e8e85cdf",
   "metadata": {},
   "outputs": [],
   "source": []
  },
  {
   "cell_type": "code",
   "execution_count": null,
   "id": "6366052c",
   "metadata": {},
   "outputs": [],
   "source": []
  },
  {
   "cell_type": "code",
   "execution_count": null,
   "id": "86402c59",
   "metadata": {},
   "outputs": [],
   "source": []
  },
  {
   "cell_type": "code",
   "execution_count": null,
   "id": "c4e08112",
   "metadata": {},
   "outputs": [],
   "source": []
  },
  {
   "cell_type": "code",
   "execution_count": null,
   "id": "1f8b4fd2",
   "metadata": {},
   "outputs": [],
   "source": []
  },
  {
   "cell_type": "code",
   "execution_count": null,
   "id": "b97317cd",
   "metadata": {},
   "outputs": [],
   "source": []
  }
 ],
 "metadata": {
  "kernelspec": {
   "display_name": "Pyspark 3",
   "language": "python",
   "name": "pyspark3"
  },
  "language_info": {
   "codemirror_mode": {
    "name": "ipython",
    "version": 3
   },
   "file_extension": ".py",
   "mimetype": "text/x-python",
   "name": "python",
   "nbconvert_exporter": "python",
   "pygments_lexer": "ipython3",
   "version": "3.6.12"
  }
 },
 "nbformat": 4,
 "nbformat_minor": 5
}
